{
 "cells": [
  {
   "cell_type": "code",
   "execution_count": 80,
   "id": "854280f7-042e-4104-8a47-1bb79529c327",
   "metadata": {
    "scrolled": true
   },
   "outputs": [
    {
     "name": "stdout",
     "output_type": "stream",
     "text": [
      "Requirement already satisfied: spreg in c:\\users\\zauka\\anaconda3\\lib\\site-packages (1.8.1)\n",
      "Requirement already satisfied: scipy>=0.11 in c:\\users\\zauka\\anaconda3\\lib\\site-packages (from spreg) (1.14.1)\n",
      "Requirement already satisfied: numpy>=1.23 in c:\\users\\zauka\\anaconda3\\lib\\site-packages (from spreg) (1.26.4)\n",
      "Requirement already satisfied: pandas in c:\\users\\zauka\\anaconda3\\lib\\site-packages (from spreg) (2.1.4)\n",
      "Requirement already satisfied: libpysal>=4.0.0 in c:\\users\\zauka\\anaconda3\\lib\\site-packages (from spreg) (4.12.1)\n",
      "Requirement already satisfied: scikit-learn>=0.22 in c:\\users\\zauka\\anaconda3\\lib\\site-packages (from spreg) (1.2.2)\n",
      "Requirement already satisfied: beautifulsoup4>=4.10 in c:\\users\\zauka\\anaconda3\\lib\\site-packages (from libpysal>=4.0.0->spreg) (4.12.2)\n",
      "Requirement already satisfied: geopandas>=0.10.0 in c:\\users\\zauka\\anaconda3\\lib\\site-packages (from libpysal>=4.0.0->spreg) (1.0.1)\n",
      "Requirement already satisfied: packaging>=22 in c:\\users\\zauka\\anaconda3\\lib\\site-packages (from libpysal>=4.0.0->spreg) (23.1)\n",
      "Requirement already satisfied: platformdirs>=2.0.2 in c:\\users\\zauka\\anaconda3\\lib\\site-packages (from libpysal>=4.0.0->spreg) (3.10.0)\n",
      "Requirement already satisfied: requests>=2.27 in c:\\users\\zauka\\anaconda3\\lib\\site-packages (from libpysal>=4.0.0->spreg) (2.31.0)\n",
      "Requirement already satisfied: shapely>=2.0.1 in c:\\users\\zauka\\anaconda3\\lib\\site-packages (from libpysal>=4.0.0->spreg) (2.0.6)\n",
      "Requirement already satisfied: python-dateutil>=2.8.2 in c:\\users\\zauka\\anaconda3\\lib\\site-packages (from pandas->spreg) (2.8.2)\n",
      "Requirement already satisfied: pytz>=2020.1 in c:\\users\\zauka\\anaconda3\\lib\\site-packages (from pandas->spreg) (2023.3.post1)\n",
      "Requirement already satisfied: tzdata>=2022.1 in c:\\users\\zauka\\anaconda3\\lib\\site-packages (from pandas->spreg) (2023.3)\n",
      "Requirement already satisfied: joblib>=1.1.1 in c:\\users\\zauka\\anaconda3\\lib\\site-packages (from scikit-learn>=0.22->spreg) (1.2.0)\n",
      "Requirement already satisfied: threadpoolctl>=2.0.0 in c:\\users\\zauka\\anaconda3\\lib\\site-packages (from scikit-learn>=0.22->spreg) (2.2.0)\n",
      "Requirement already satisfied: soupsieve>1.2 in c:\\users\\zauka\\anaconda3\\lib\\site-packages (from beautifulsoup4>=4.10->libpysal>=4.0.0->spreg) (2.5)\n",
      "Requirement already satisfied: pyogrio>=0.7.2 in c:\\users\\zauka\\anaconda3\\lib\\site-packages (from geopandas>=0.10.0->libpysal>=4.0.0->spreg) (0.10.0)\n",
      "Requirement already satisfied: pyproj>=3.3.0 in c:\\users\\zauka\\anaconda3\\lib\\site-packages (from geopandas>=0.10.0->libpysal>=4.0.0->spreg) (3.7.0)\n",
      "Requirement already satisfied: six>=1.5 in c:\\users\\zauka\\anaconda3\\lib\\site-packages (from python-dateutil>=2.8.2->pandas->spreg) (1.16.0)\n",
      "Requirement already satisfied: charset-normalizer<4,>=2 in c:\\users\\zauka\\anaconda3\\lib\\site-packages (from requests>=2.27->libpysal>=4.0.0->spreg) (2.0.4)\n",
      "Requirement already satisfied: idna<4,>=2.5 in c:\\users\\zauka\\anaconda3\\lib\\site-packages (from requests>=2.27->libpysal>=4.0.0->spreg) (3.4)\n",
      "Requirement already satisfied: urllib3<3,>=1.21.1 in c:\\users\\zauka\\anaconda3\\lib\\site-packages (from requests>=2.27->libpysal>=4.0.0->spreg) (2.0.7)\n",
      "Requirement already satisfied: certifi>=2017.4.17 in c:\\users\\zauka\\anaconda3\\lib\\site-packages (from requests>=2.27->libpysal>=4.0.0->spreg) (2024.8.30)\n",
      "Note: you may need to restart the kernel to use updated packages.\n"
     ]
    }
   ],
   "source": [
    "pip install --upgrade spreg"
   ]
  },
  {
   "cell_type": "code",
   "execution_count": 82,
   "id": "a76844c0-ed1f-494a-871d-635cf9977171",
   "metadata": {
    "scrolled": true
   },
   "outputs": [
    {
     "name": "stdout",
     "output_type": "stream",
     "text": [
      "Requirement already satisfied: numpy in c:\\users\\zauka\\anaconda3\\lib\\site-packages (1.26.4)Note: you may need to restart the kernel to use updated packages.\n",
      "\n",
      "Requirement already satisfied: libpysal in c:\\users\\zauka\\anaconda3\\lib\\site-packages (4.12.1)\n",
      "Requirement already satisfied: spreg in c:\\users\\zauka\\anaconda3\\lib\\site-packages (1.8.1)\n",
      "Requirement already satisfied: beautifulsoup4>=4.10 in c:\\users\\zauka\\anaconda3\\lib\\site-packages (from libpysal) (4.12.2)\n",
      "Requirement already satisfied: geopandas>=0.10.0 in c:\\users\\zauka\\anaconda3\\lib\\site-packages (from libpysal) (1.0.1)\n",
      "Requirement already satisfied: packaging>=22 in c:\\users\\zauka\\anaconda3\\lib\\site-packages (from libpysal) (23.1)\n",
      "Requirement already satisfied: pandas>=1.4 in c:\\users\\zauka\\anaconda3\\lib\\site-packages (from libpysal) (2.1.4)\n",
      "Requirement already satisfied: platformdirs>=2.0.2 in c:\\users\\zauka\\anaconda3\\lib\\site-packages (from libpysal) (3.10.0)\n",
      "Requirement already satisfied: requests>=2.27 in c:\\users\\zauka\\anaconda3\\lib\\site-packages (from libpysal) (2.31.0)\n",
      "Requirement already satisfied: scipy>=1.8 in c:\\users\\zauka\\anaconda3\\lib\\site-packages (from libpysal) (1.14.1)\n",
      "Requirement already satisfied: shapely>=2.0.1 in c:\\users\\zauka\\anaconda3\\lib\\site-packages (from libpysal) (2.0.6)\n",
      "Requirement already satisfied: scikit-learn>=1.1 in c:\\users\\zauka\\anaconda3\\lib\\site-packages (from libpysal) (1.2.2)\n",
      "Requirement already satisfied: soupsieve>1.2 in c:\\users\\zauka\\anaconda3\\lib\\site-packages (from beautifulsoup4>=4.10->libpysal) (2.5)\n",
      "Requirement already satisfied: pyogrio>=0.7.2 in c:\\users\\zauka\\anaconda3\\lib\\site-packages (from geopandas>=0.10.0->libpysal) (0.10.0)\n",
      "Requirement already satisfied: pyproj>=3.3.0 in c:\\users\\zauka\\anaconda3\\lib\\site-packages (from geopandas>=0.10.0->libpysal) (3.7.0)\n",
      "Requirement already satisfied: python-dateutil>=2.8.2 in c:\\users\\zauka\\anaconda3\\lib\\site-packages (from pandas>=1.4->libpysal) (2.8.2)\n",
      "Requirement already satisfied: pytz>=2020.1 in c:\\users\\zauka\\anaconda3\\lib\\site-packages (from pandas>=1.4->libpysal) (2023.3.post1)\n",
      "Requirement already satisfied: tzdata>=2022.1 in c:\\users\\zauka\\anaconda3\\lib\\site-packages (from pandas>=1.4->libpysal) (2023.3)\n",
      "Requirement already satisfied: charset-normalizer<4,>=2 in c:\\users\\zauka\\anaconda3\\lib\\site-packages (from requests>=2.27->libpysal) (2.0.4)\n",
      "Requirement already satisfied: idna<4,>=2.5 in c:\\users\\zauka\\anaconda3\\lib\\site-packages (from requests>=2.27->libpysal) (3.4)\n",
      "Requirement already satisfied: urllib3<3,>=1.21.1 in c:\\users\\zauka\\anaconda3\\lib\\site-packages (from requests>=2.27->libpysal) (2.0.7)\n",
      "Requirement already satisfied: certifi>=2017.4.17 in c:\\users\\zauka\\anaconda3\\lib\\site-packages (from requests>=2.27->libpysal) (2024.8.30)\n",
      "Requirement already satisfied: joblib>=1.1.1 in c:\\users\\zauka\\anaconda3\\lib\\site-packages (from scikit-learn>=1.1->libpysal) (1.2.0)\n",
      "Requirement already satisfied: threadpoolctl>=2.0.0 in c:\\users\\zauka\\anaconda3\\lib\\site-packages (from scikit-learn>=1.1->libpysal) (2.2.0)\n",
      "Requirement already satisfied: six>=1.5 in c:\\users\\zauka\\anaconda3\\lib\\site-packages (from python-dateutil>=2.8.2->pandas>=1.4->libpysal) (1.16.0)\n"
     ]
    }
   ],
   "source": [
    "pip install numpy libpysal spreg"
   ]
  },
  {
   "cell_type": "code",
   "execution_count": 84,
   "id": "e5d1839b-6ef7-439e-be00-9b4d6e07f057",
   "metadata": {
    "scrolled": true
   },
   "outputs": [
    {
     "name": "stdout",
     "output_type": "stream",
     "text": [
      "Requirement already satisfied: esda in c:\\users\\zauka\\anaconda3\\lib\\site-packages (2.6.0)Note: you may need to restart the kernel to use updated packages.\n",
      "\n",
      "Requirement already satisfied: geopandas>=0.12 in c:\\users\\zauka\\anaconda3\\lib\\site-packages (from esda) (1.0.1)\n",
      "Requirement already satisfied: libpysal>=4.12 in c:\\users\\zauka\\anaconda3\\lib\\site-packages (from esda) (4.12.1)\n",
      "Requirement already satisfied: numpy>=1.24 in c:\\users\\zauka\\anaconda3\\lib\\site-packages (from esda) (1.26.4)\n",
      "Requirement already satisfied: pandas>1.5 in c:\\users\\zauka\\anaconda3\\lib\\site-packages (from esda) (2.1.4)\n",
      "Requirement already satisfied: scikit-learn>=1.2 in c:\\users\\zauka\\anaconda3\\lib\\site-packages (from esda) (1.2.2)\n",
      "Requirement already satisfied: scipy>=1.9 in c:\\users\\zauka\\anaconda3\\lib\\site-packages (from esda) (1.14.1)\n",
      "Requirement already satisfied: shapely>=2.0 in c:\\users\\zauka\\anaconda3\\lib\\site-packages (from esda) (2.0.6)\n",
      "Requirement already satisfied: pyogrio>=0.7.2 in c:\\users\\zauka\\anaconda3\\lib\\site-packages (from geopandas>=0.12->esda) (0.10.0)\n",
      "Requirement already satisfied: packaging in c:\\users\\zauka\\anaconda3\\lib\\site-packages (from geopandas>=0.12->esda) (23.1)\n",
      "Requirement already satisfied: pyproj>=3.3.0 in c:\\users\\zauka\\anaconda3\\lib\\site-packages (from geopandas>=0.12->esda) (3.7.0)\n",
      "Requirement already satisfied: beautifulsoup4>=4.10 in c:\\users\\zauka\\anaconda3\\lib\\site-packages (from libpysal>=4.12->esda) (4.12.2)\n",
      "Requirement already satisfied: platformdirs>=2.0.2 in c:\\users\\zauka\\anaconda3\\lib\\site-packages (from libpysal>=4.12->esda) (3.10.0)\n",
      "Requirement already satisfied: requests>=2.27 in c:\\users\\zauka\\anaconda3\\lib\\site-packages (from libpysal>=4.12->esda) (2.31.0)\n",
      "Requirement already satisfied: python-dateutil>=2.8.2 in c:\\users\\zauka\\anaconda3\\lib\\site-packages (from pandas>1.5->esda) (2.8.2)\n",
      "Requirement already satisfied: pytz>=2020.1 in c:\\users\\zauka\\anaconda3\\lib\\site-packages (from pandas>1.5->esda) (2023.3.post1)\n",
      "Requirement already satisfied: tzdata>=2022.1 in c:\\users\\zauka\\anaconda3\\lib\\site-packages (from pandas>1.5->esda) (2023.3)\n",
      "Requirement already satisfied: joblib>=1.1.1 in c:\\users\\zauka\\anaconda3\\lib\\site-packages (from scikit-learn>=1.2->esda) (1.2.0)\n",
      "Requirement already satisfied: threadpoolctl>=2.0.0 in c:\\users\\zauka\\anaconda3\\lib\\site-packages (from scikit-learn>=1.2->esda) (2.2.0)\n",
      "Requirement already satisfied: soupsieve>1.2 in c:\\users\\zauka\\anaconda3\\lib\\site-packages (from beautifulsoup4>=4.10->libpysal>=4.12->esda) (2.5)\n",
      "Requirement already satisfied: certifi in c:\\users\\zauka\\anaconda3\\lib\\site-packages (from pyogrio>=0.7.2->geopandas>=0.12->esda) (2024.8.30)\n",
      "Requirement already satisfied: six>=1.5 in c:\\users\\zauka\\anaconda3\\lib\\site-packages (from python-dateutil>=2.8.2->pandas>1.5->esda) (1.16.0)\n",
      "Requirement already satisfied: charset-normalizer<4,>=2 in c:\\users\\zauka\\anaconda3\\lib\\site-packages (from requests>=2.27->libpysal>=4.12->esda) (2.0.4)\n",
      "Requirement already satisfied: idna<4,>=2.5 in c:\\users\\zauka\\anaconda3\\lib\\site-packages (from requests>=2.27->libpysal>=4.12->esda) (3.4)\n",
      "Requirement already satisfied: urllib3<3,>=1.21.1 in c:\\users\\zauka\\anaconda3\\lib\\site-packages (from requests>=2.27->libpysal>=4.12->esda) (2.0.7)\n"
     ]
    }
   ],
   "source": [
    "pip install esda"
   ]
  },
  {
   "cell_type": "code",
   "execution_count": 86,
   "id": "0e2d8a34-6593-4154-b545-246fc03dbfcc",
   "metadata": {
    "scrolled": true
   },
   "outputs": [
    {
     "name": "stdout",
     "output_type": "stream",
     "text": [
      "Requirement already satisfied: scipy in c:\\users\\zauka\\anaconda3\\lib\\site-packages (1.14.1)\n",
      "Requirement already satisfied: numpy<2.3,>=1.23.5 in c:\\users\\zauka\\anaconda3\\lib\\site-packages (from scipy) (1.26.4)\n",
      "Note: you may need to restart the kernel to use updated packages.\n"
     ]
    }
   ],
   "source": [
    "pip install --upgrade scipy"
   ]
  },
  {
   "cell_type": "code",
   "execution_count": 88,
   "id": "258a8e5c-a4cc-442c-8101-a3c0c2c053d8",
   "metadata": {},
   "outputs": [
    {
     "name": "stdout",
     "output_type": "stream",
     "text": [
      "OLS Results:\n",
      "REGRESSION RESULTS\n",
      "------------------\n",
      "\n",
      "SUMMARY OF OUTPUT: ORDINARY LEAST SQUARES\n",
      "-----------------------------------------\n",
      "Data set            :     unknown\n",
      "Weights matrix      :        None\n",
      "Dependent Variable  :           Y                Number of Observations:         500\n",
      "Mean dependent var  :      0.9678                Number of Variables   :           2\n",
      "S.D. dependent var  :      1.0582                Degrees of Freedom    :         498\n",
      "R-squared           :      0.0827\n",
      "Adjusted R-squared  :      0.0809\n",
      "Sum squared residual:     512.568                F-statistic           :     44.8997\n",
      "Sigma-square        :       1.029                Prob(F-statistic)     :   5.625e-11\n",
      "S.E. of regression  :       1.015                Log likelihood        :    -715.676\n",
      "Sigma-square ML     :       1.025                Akaike info criterion :    1435.351\n",
      "S.E of regression ML:      1.0125                Schwarz criterion     :    1443.781\n",
      "\n",
      "------------------------------------------------------------------------------------\n",
      "            Variable     Coefficient       Std.Error     t-Statistic     Probability\n",
      "------------------------------------------------------------------------------------\n",
      "            CONSTANT         0.44220         0.09061         4.88014         0.00000\n",
      "                   X         1.06296         0.15863         6.70073         0.00000\n",
      "------------------------------------------------------------------------------------\n",
      "Warning: Variable(s) ['const'] removed for being constant.\n",
      "\n",
      "REGRESSION DIAGNOSTICS\n",
      "MULTICOLLINEARITY CONDITION NUMBER           3.726\n",
      "\n",
      "TEST ON NORMALITY OF ERRORS\n",
      "TEST                             DF        VALUE           PROB\n",
      "Jarque-Bera                       2          0.400           0.8187\n",
      "\n",
      "DIAGNOSTICS FOR HETEROSKEDASTICITY\n",
      "RANDOM COEFFICIENTS\n",
      "TEST                             DF        VALUE           PROB\n",
      "Breusch-Pagan test                1          0.758           0.3840\n",
      "Koenker-Bassett test              1          0.799           0.3714\n",
      "================================ END OF REPORT =====================================\n",
      "\n",
      "Spatial Lag (FAR) Results:\n",
      "REGRESSION RESULTS\n",
      "------------------\n",
      "\n",
      "SUMMARY OF OUTPUT: MAXIMUM LIKELIHOOD SPATIAL LAG (METHOD = FULL)\n",
      "-----------------------------------------------------------------\n",
      "Data set            :     unknown\n",
      "Weights matrix      :     unknown\n",
      "Dependent Variable  :           Y                Number of Observations:         500\n",
      "Mean dependent var  :      0.9678                Number of Variables   :           3\n",
      "S.D. dependent var  :      1.0582                Degrees of Freedom    :         497\n",
      "Pseudo R-squared    :      0.0840\n",
      "Spatial Pseudo R-squared:  0.0823\n",
      "Log likelihood      :   -715.4344\n",
      "Sigma-square ML     :      1.0237                Akaike info criterion :    1436.869\n",
      "S.E of regression   :      1.0118                Schwarz criterion     :    1449.513\n",
      "\n",
      "------------------------------------------------------------------------------------\n",
      "            Variable     Coefficient       Std.Error     z-Statistic     Probability\n",
      "------------------------------------------------------------------------------------\n",
      "            CONSTANT         0.39993         0.10772         3.71267         0.00021\n",
      "                   X         1.06666         0.15821         6.74217         0.00000\n",
      "                 W_Y         0.04166         0.06005         0.69376         0.48783\n",
      "------------------------------------------------------------------------------------\n",
      "Warning: Variable(s) ['const'] removed for being constant.\n",
      "\n",
      "SPATIAL LAG MODEL IMPACTS\n",
      "Impacts computed using the 'simple' method.\n",
      "            Variable         Direct        Indirect          Total\n",
      "                   X         1.0667          0.0464          1.1130\n",
      "================================ END OF REPORT =====================================\n"
     ]
    },
    {
     "name": "stderr",
     "output_type": "stream",
     "text": [
      "C:\\Users\\zauka\\anaconda3\\Lib\\site-packages\\scipy\\optimize\\_minimize.py:913: RuntimeWarning: Method 'bounded' does not support relative tolerance in x; defaulting to absolute tolerance.\n",
      "  warn(\"Method 'bounded' does not support relative tolerance in x; \"\n"
     ]
    },
    {
     "name": "stdout",
     "output_type": "stream",
     "text": [
      "\n",
      "Spatial Error (SEM) Results:\n",
      "REGRESSION RESULTS\n",
      "------------------\n",
      "\n",
      "SUMMARY OF OUTPUT: ML SPATIAL ERROR (METHOD = full)\n",
      "---------------------------------------------------\n",
      "Data set            :     unknown\n",
      "Weights matrix      :     unknown\n",
      "Dependent Variable  :           Y                Number of Observations:         500\n",
      "Mean dependent var  :      0.9678                Number of Variables   :           2\n",
      "S.D. dependent var  :      1.0582                Degrees of Freedom    :         498\n",
      "Pseudo R-squared    :      0.0827\n",
      "Log likelihood      :   -715.3145\n",
      "Sigma-square ML     :      1.0229                Akaike info criterion :    1434.629\n",
      "S.E of regression   :      1.0114                Schwarz criterion     :    1443.058\n",
      "\n",
      "------------------------------------------------------------------------------------\n",
      "            Variable     Coefficient       Std.Error     z-Statistic     Probability\n",
      "------------------------------------------------------------------------------------\n",
      "            CONSTANT         0.43914         0.09148         4.80044         0.00000\n",
      "                   X         1.06880         0.15786         6.77034         0.00000\n",
      "              lambda         0.05181         0.06132         0.84482         0.39821\n",
      "------------------------------------------------------------------------------------\n",
      "Warning: Variable(s) ['const'] removed for being constant.\n",
      "================================ END OF REPORT =====================================\n",
      "\n",
      "Moran's I on OLS residuals: 0.0279\n",
      "P-value: 0.1870\n"
     ]
    }
   ],
   "source": [
    "import numpy as np\n",
    "import pandas as pd\n",
    "from spreg import OLS, ML_Lag, ML_Error\n",
    "from libpysal.weights import lat2W\n",
    "from scipy.stats import zscore\n",
    "from esda.moran import Moran\n",
    "\n",
    "\n",
    "# Generate sample data\n",
    "np.random.seed(123)\n",
    "n = 500\n",
    "X = np.random.rand(n, 1)\n",
    "y = 0.5 + 0.95 * X.flatten() + np.random.normal(0, 1, n)\n",
    "\n",
    "# Create spatial weight matrix (e.g., Queen or Rook contiguity for lattice data)\n",
    "# Assuming a regular grid for simplicity\n",
    "w = lat2W(25, 20)  # 25x20 grid for 500 observations\n",
    "\n",
    "# Normalize weights\n",
    "w.transform = 'r'\n",
    "\n",
    "# OLS Model\n",
    "ols_model = OLS(\n",
    "    y.reshape(-1, 1),\n",
    "    np.hstack((np.ones((n, 1)), X)),\n",
    "    name_y=\"Y\",\n",
    "    name_x=[\"const\", \"X\"],\n",
    ")\n",
    "print(\"OLS Results:\")\n",
    "print(ols_model.summary)\n",
    "\n",
    "\n",
    "# FAR Model (Spatial Lag)\n",
    "lag_model = ML_Lag(\n",
    "    y.reshape(-1, 1),\n",
    "    np.hstack((np.ones((n, 1)), X)),\n",
    "    w,\n",
    "    name_y=\"Y\",\n",
    "    name_x=[\"const\", \"X\"],\n",
    ")\n",
    "print(\"\\nSpatial Lag (FAR) Results:\")\n",
    "print(lag_model.summary)\n",
    "\n",
    "# SEM Model (Spatial Error)\n",
    "sem_model = ML_Error(\n",
    "    y.reshape(-1, 1),\n",
    "    np.hstack((np.ones((n, 1)), X)),\n",
    "    w,\n",
    "    name_y=\"Y\",\n",
    "    name_x=[\"const\", \"X\"],\n",
    ")\n",
    "print(\"\\nSpatial Error (SEM) Results:\")\n",
    "print(sem_model.summary)\n",
    "\n",
    "ols_residuals = y - ols_model.predy.flatten()\n",
    "\n",
    "\n",
    "# Spatial Diagnostics\n",
    "moran = Moran(ols_residuals, w)\n",
    "print(f\"\\nMoran's I on OLS residuals: {moran.I:.4f}\")\n",
    "print(f\"P-value: {moran.p_sim:.4f}\")"
   ]
  },
  {
   "cell_type": "code",
   "execution_count": null,
   "id": "df538c7a-b980-4f11-9a2a-945ba3d47497",
   "metadata": {},
   "outputs": [],
   "source": []
  }
 ],
 "metadata": {
  "kernelspec": {
   "display_name": "Python 3 (ipykernel)",
   "language": "python",
   "name": "python3"
  },
  "language_info": {
   "codemirror_mode": {
    "name": "ipython",
    "version": 3
   },
   "file_extension": ".py",
   "mimetype": "text/x-python",
   "name": "python",
   "nbconvert_exporter": "python",
   "pygments_lexer": "ipython3",
   "version": "3.11.7"
  }
 },
 "nbformat": 4,
 "nbformat_minor": 5
}
